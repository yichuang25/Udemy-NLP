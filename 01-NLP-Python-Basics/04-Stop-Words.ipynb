{
 "cells": [
  {
   "cell_type": "markdown",
   "metadata": {},
   "source": [
    "___\n",
    "\n",
    "<a href='http://www.pieriandata.com'> <img src='../Pierian_Data_Logo.png' /></a>\n",
    "___"
   ]
  },
  {
   "cell_type": "markdown",
   "metadata": {},
   "source": [
    "# Stop Words\n",
    "Words like \"a\" and \"the\" appear so frequently that they don't require tagging as thoroughly as nouns, verbs and modifiers. We call these *stop words*, and they can be filtered from the text to be processed. spaCy holds a built-in list of some 305 English stop words."
   ]
  },
  {
   "cell_type": "code",
   "execution_count": 1,
   "metadata": {},
   "outputs": [],
   "source": [
    "# Perform standard imports:\n",
    "import spacy\n",
    "nlp = spacy.load('en_core_web_sm')"
   ]
  },
  {
   "cell_type": "code",
   "execution_count": 2,
   "metadata": {},
   "outputs": [
    {
     "name": "stdout",
     "output_type": "stream",
     "text": [
      "{'everywhere', 'nor', 'ten', 'herein', 'besides', 'just', 'keep', 'perhaps', 'already', 'always', 'former', 'when', 'here', 'fifty', 'nine', 'once', 'all', 'hereby', 'until', \"'re\", 'made', 'through', 'sometimes', 'whom', 'into', 'along', 'below', 'formerly', 'thereby', 'namely', 'both', 'themselves', 'i', 'two', 'must', 'anything', 'first', 'various', 'most', \"'d\", 'and', 'no', 'become', 'herself', 'enough', 'really', 'neither', 'due', 'using', 'sixty', 'noone', 'without', 'hereafter', 'am', 'mine', 'empty', 'least', 'per', 'moreover', 'up', 'except', '‘ve', 'under', 'can', 'behind', 'thereafter', 'last', 'not', 'done', 'us', 'he', 'never', 'fifteen', 'where', 'thus', 'every', 'if', 'still', 'please', 'across', 'it', 'above', 'these', 'hundred', 'whither', '’re', \"'s\", 'ours', 'latter', 'ca', 'has', 'put', 'many', 'whose', 'should', 'by', 'among', 'onto', 'eight', 'being', 'but', 'nothing', 'have', 'three', \"'m\", '‘m', 'himself', 'because', '’ve', 're', 'via', 'next', 'anyhow', 'why', 'although', 'nowhere', 'n‘t', 'thru', 'she', 'then', 'upon', 'myself', 'for', 'such', 'wherein', 'could', 'n’t', 'in', 'forty', 'wherever', 'well', 'between', 'alone', 'me', 'does', 'somehow', 'my', 'whoever', 'only', 'during', 'beyond', 'top', 'what', 'quite', 'whereafter', 'another', 'anyone', 'so', '‘d', 'becoming', 'were', 'very', 'against', 'eleven', 'anywhere', 'whole', 'none', 'who', 'out', 'their', 'back', 'everyone', 'whereas', 'much', 'seemed', 'since', 'to', 'than', 'show', 'hence', 'four', 'or', 'is', 'that', 'name', 'nobody', 'his', 'the', 'them', 'anyway', '’m', 'did', 'yours', 'off', 'as', 'even', '‘s', 'they', 'hers', 'elsewhere', 'which', 'over', 'indeed', 'either', 'there', 'yet', 'latterly', 'throughout', 'beside', 'would', 'seems', 'became', 'you', 'down', 'unless', 'after', 'everything', 'ourselves', 'we', 'full', 'meanwhile', 'several', 'had', 'some', '’d', 'those', 'at', 'make', 'might', 'together', 'therefore', 'on', 'her', 'each', 'own', 'too', 'are', 'itself', 'towards', 'beforehand', 'while', 'others', 'whence', 'cannot', 'amongst', 'do', 'serious', 'move', 'third', 'our', 'twelve', 'with', \"'ll\", 'this', 'any', 'be', 'therein', 'will', 'somewhere', 'take', 'front', 'go', '‘re', 'how', 'becomes', 'now', 'been', 'something', 'regarding', 'used', 'around', \"n't\", 'was', 'within', 'give', 'else', 'mostly', 'almost', 'same', 'ever', 'see', 'side', 'before', 'whatever', 'of', 'yourself', 'twenty', 'six', 'whereupon', 'a', 'few', 'often', 'about', 'afterwards', 'otherwise', 'rather', 'call', 'more', 'thereupon', 'seem', 'five', 'whereby', 'your', 'from', 'further', 'less', 'bottom', 'one', 'though', 'however', '’s', 'someone', \"'ve\", 'other', 'seeming', 'amount', 'whenever', 'yourselves', 'its', 'may', 'sometime', 'nevertheless', 'doing', 'hereupon', '’ll', 'an', 'say', 'part', 'also', 'him', 'thence', 'whether', 'again', 'get', '‘ll', 'toward'}\n"
     ]
    }
   ],
   "source": [
    "# Print the set of spaCy's default stop words (remember that sets are unordered):\n",
    "print(nlp.Defaults.stop_words)"
   ]
  },
  {
   "cell_type": "code",
   "execution_count": 3,
   "metadata": {},
   "outputs": [
    {
     "data": {
      "text/plain": [
       "326"
      ]
     },
     "execution_count": 3,
     "metadata": {},
     "output_type": "execute_result"
    }
   ],
   "source": [
    "len(nlp.Defaults.stop_words)"
   ]
  },
  {
   "cell_type": "markdown",
   "metadata": {},
   "source": [
    "## To see if a word is a stop word"
   ]
  },
  {
   "cell_type": "code",
   "execution_count": 4,
   "metadata": {},
   "outputs": [
    {
     "data": {
      "text/plain": [
       "True"
      ]
     },
     "execution_count": 4,
     "metadata": {},
     "output_type": "execute_result"
    }
   ],
   "source": [
    "nlp.vocab['myself'].is_stop"
   ]
  },
  {
   "cell_type": "code",
   "execution_count": 5,
   "metadata": {},
   "outputs": [
    {
     "data": {
      "text/plain": [
       "False"
      ]
     },
     "execution_count": 5,
     "metadata": {},
     "output_type": "execute_result"
    }
   ],
   "source": [
    "nlp.vocab['mystery'].is_stop"
   ]
  },
  {
   "cell_type": "markdown",
   "metadata": {},
   "source": [
    "## To add a stop word\n",
    "There may be times when you wish to add a stop word to the default set. Perhaps you decide that `'btw'` (common shorthand for \"by the way\") should be considered a stop word."
   ]
  },
  {
   "cell_type": "code",
   "execution_count": 6,
   "metadata": {},
   "outputs": [],
   "source": [
    "# Add the word to the set of stop words. Use lowercase!\n",
    "nlp.Defaults.stop_words.add('btw')\n",
    "\n",
    "# Set the stop_word tag on the lexeme\n",
    "nlp.vocab['btw'].is_stop = True"
   ]
  },
  {
   "cell_type": "code",
   "execution_count": 7,
   "metadata": {},
   "outputs": [
    {
     "data": {
      "text/plain": [
       "327"
      ]
     },
     "execution_count": 7,
     "metadata": {},
     "output_type": "execute_result"
    }
   ],
   "source": [
    "len(nlp.Defaults.stop_words)"
   ]
  },
  {
   "cell_type": "code",
   "execution_count": 8,
   "metadata": {},
   "outputs": [
    {
     "data": {
      "text/plain": [
       "True"
      ]
     },
     "execution_count": 8,
     "metadata": {},
     "output_type": "execute_result"
    }
   ],
   "source": [
    "nlp.vocab['btw'].is_stop"
   ]
  },
  {
   "cell_type": "markdown",
   "metadata": {},
   "source": [
    "<font color=green>When adding stop words, always use lowercase. Lexemes are converted to lowercase before being added to **vocab**.</font>"
   ]
  },
  {
   "cell_type": "markdown",
   "metadata": {},
   "source": [
    "## To remove a stop word\n",
    "Alternatively, you may decide that `'beyond'` should not be considered a stop word."
   ]
  },
  {
   "cell_type": "code",
   "execution_count": 9,
   "metadata": {},
   "outputs": [],
   "source": [
    "# Remove the word from the set of stop words\n",
    "nlp.Defaults.stop_words.remove('beyond')\n",
    "\n",
    "# Remove the stop_word tag from the lexeme\n",
    "nlp.vocab['beyond'].is_stop = False"
   ]
  },
  {
   "cell_type": "code",
   "execution_count": 10,
   "metadata": {},
   "outputs": [
    {
     "data": {
      "text/plain": [
       "326"
      ]
     },
     "execution_count": 10,
     "metadata": {},
     "output_type": "execute_result"
    }
   ],
   "source": [
    "len(nlp.Defaults.stop_words)"
   ]
  },
  {
   "cell_type": "code",
   "execution_count": 11,
   "metadata": {},
   "outputs": [
    {
     "data": {
      "text/plain": [
       "False"
      ]
     },
     "execution_count": 11,
     "metadata": {},
     "output_type": "execute_result"
    }
   ],
   "source": [
    "nlp.vocab['beyond'].is_stop"
   ]
  },
  {
   "cell_type": "markdown",
   "metadata": {},
   "source": [
    "Great! Now you should be able to access spaCy's default set of stop words, and add or remove stop words as needed.\n",
    "## Next up: Vocabulary and Matching"
   ]
  }
 ],
 "metadata": {
  "kernelspec": {
   "display_name": "Python 3",
   "language": "python",
   "name": "python3"
  },
  "language_info": {
   "codemirror_mode": {
    "name": "ipython",
    "version": 3
   },
   "file_extension": ".py",
   "mimetype": "text/x-python",
   "name": "python",
   "nbconvert_exporter": "python",
   "pygments_lexer": "ipython3",
   "version": "3.9.12"
  },
  "vscode": {
   "interpreter": {
    "hash": "b0fa6594d8f4cbf19f97940f81e996739fb7646882a419484c72d19e05852a7e"
   }
  }
 },
 "nbformat": 4,
 "nbformat_minor": 2
}
